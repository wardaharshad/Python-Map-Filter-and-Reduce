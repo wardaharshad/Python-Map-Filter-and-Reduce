{
 "cells": [
  {
   "cell_type": "code",
   "execution_count": 1,
   "metadata": {},
   "outputs": [
    {
     "name": "stdout",
     "output_type": "stream",
     "text": [
      "['PARROT', 'PEIGON', 'CAT', 'RABBIT']\n"
     ]
    }
   ],
   "source": [
    "my_pets=[\"parrot\",\"peigon\",\"cat\",\"rabbit\"]\n",
    "upper_case=[]\n",
    "\n",
    "for pet in my_pets:\n",
    "    pet_upper= pet.upper()\n",
    "    upper_case.append(pet_upper)\n",
    "    \n",
    "print(upper_case)"
   ]
  },
  {
   "cell_type": "code",
   "execution_count": 3,
   "metadata": {},
   "outputs": [
    {
     "name": "stdout",
     "output_type": "stream",
     "text": [
      "['PARROT', 'PEIGON', 'CAT', 'RABBIT']\n"
     ]
    }
   ],
   "source": [
    "my_pets=[\"parrot\",\"peigon\",\"cat\",\"rabbit\"]\n",
    "upper_case=list(map(str.upper,my_pets))\n",
    "print(upper_case)"
   ]
  },
  {
   "cell_type": "code",
   "execution_count": 4,
   "metadata": {},
   "outputs": [
    {
     "name": "stdout",
     "output_type": "stream",
     "text": [
      "[3.6, 7.83, 9.268, 3.6368, 1.6421]\n"
     ]
    }
   ],
   "source": [
    "radius_circle=[3.56833, 7.82924, 9.2682941, 3.63681, 1.64209842]\n",
    "round_off= list(map(round, radius_circle,range(1,6)))\n",
    "print(round_off)"
   ]
  },
  {
   "cell_type": "code",
   "execution_count": 8,
   "metadata": {},
   "outputs": [
    {
     "name": "stdout",
     "output_type": "stream",
     "text": [
      "{1, 4, 9, 16, 25}\n"
     ]
    }
   ],
   "source": [
    "def cal_square(n):\n",
    "    return n*n\n",
    "\n",
    "numbers=(1,2,3,4,5)\n",
    "result= set(map(cal_square, numbers))\n",
    "print(result)"
   ]
  },
  {
   "cell_type": "code",
   "execution_count": 9,
   "metadata": {},
   "outputs": [
    {
     "name": "stdout",
     "output_type": "stream",
     "text": [
      "[('a', 1), ('b', 2), ('c', 3), ('d', 4), ('e', 5)]\n"
     ]
    }
   ],
   "source": [
    "my_strings=[\"a\",\"b\",\"c\",\"d\",\"e\"]\n",
    "my_integers=[1,2,3,4,5]\n",
    "result= list(map(lambda x,y: (x,y),my_strings, my_integers))\n",
    "print(result)"
   ]
  },
  {
   "cell_type": "code",
   "execution_count": 10,
   "metadata": {},
   "outputs": [
    {
     "name": "stdout",
     "output_type": "stream",
     "text": [
      "[4, 6, 8]\n"
     ]
    }
   ],
   "source": [
    "num1=[1,2,3]\n",
    "num2=[3,4,5]\n",
    "result=list(map(lambda n1,n2 : n1+n2, num1,num2))\n",
    "print(result)"
   ]
  },
  {
   "cell_type": "code",
   "execution_count": 18,
   "metadata": {},
   "outputs": [
    {
     "name": "stdout",
     "output_type": "stream",
     "text": [
      "[80, 77, 90, 84]\n"
     ]
    }
   ],
   "source": [
    "scores=[80,65,77,90,40,37,59,84]\n",
    "\n",
    "def student(score):\n",
    "    return score >= 75\n",
    "\n",
    "over_75= list(filter(student, scores))\n",
    "print(over_75)"
   ]
  },
  {
   "cell_type": "code",
   "execution_count": 14,
   "metadata": {},
   "outputs": [
    {
     "name": "stdout",
     "output_type": "stream",
     "text": [
      "['madam', 'sanas', 'labal']\n"
     ]
    }
   ],
   "source": [
    "dromes = (\"never\", \"madam\",\"sanas\", \"labal\",\"abc\")\n",
    "\n",
    "abc= list(filter(lambda word: word==word[::-1], dromes))\n",
    "print(abc)"
   ]
  },
  {
   "cell_type": "code",
   "execution_count": 17,
   "metadata": {},
   "outputs": [
    {
     "name": "stdout",
     "output_type": "stream",
     "text": [
      "The filtered vowels are:\n",
      "a\n",
      "e\n",
      "i\n"
     ]
    }
   ],
   "source": [
    "letters = [\"a\",\"b\",\"c\",\"e\",\"h\",\"i\"]\n",
    "\n",
    "def vowelsfilter(letter):\n",
    "    vowels=[\"a\",\"e\",\"i\",\"o\",\"u\"]\n",
    "    \n",
    "    if (letter in vowels):\n",
    "        return True\n",
    "    else:\n",
    "        return False\n",
    "    return\n",
    "\n",
    "abc= filter(vowelsfilter, letters)\n",
    "print(\"The filtered vowels are:\")\n",
    "\n",
    "for vowel in abc:\n",
    "    print(vowel)"
   ]
  },
  {
   "cell_type": "code",
   "execution_count": null,
   "metadata": {},
   "outputs": [],
   "source": []
  }
 ],
 "metadata": {
  "kernelspec": {
   "display_name": "Python 3",
   "language": "python",
   "name": "python3"
  },
  "language_info": {
   "codemirror_mode": {
    "name": "ipython",
    "version": 3
   },
   "file_extension": ".py",
   "mimetype": "text/x-python",
   "name": "python",
   "nbconvert_exporter": "python",
   "pygments_lexer": "ipython3",
   "version": "3.8.3"
  }
 },
 "nbformat": 4,
 "nbformat_minor": 4
}
